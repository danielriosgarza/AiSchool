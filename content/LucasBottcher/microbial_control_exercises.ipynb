{
 "cells": [
  {
   "cell_type": "markdown",
   "id": "4c6bee88",
   "metadata": {},
   "source": [
    "# Control of Microbial Dynamics with Neural ODEs\n",
    "\n",
    "This notebook demonstrates how neural ordinary differential equations (ODEs) can be used to model and control microbial populations, with a focus on treating *C. difficile* infections while minimizing antibiotic use.\n",
    "\n",
    "The relevant method papers are:\n",
    "\n",
    "- Asikis, T., Böttcher, L. and Antulov-Fantulin, N., 2022. [Neural ordinary differential equation control of dynamics on graphs](https://journals.aps.org/prresearch/abstract/10.1103/PhysRevResearch.4.013221). Physical Review Research, 4(1), p.013221.\n",
    "\n",
    "- Böttcher, L., Antulov-Fantulin, N. and Asikis, T., 2022. [AI Pontryagin or how artificial neural networks learn to control dynamical systems](https://www.nature.com/articles/s41467-021-27590-0). Nature Communications, 13(1), p.333.\n",
    "\n",
    "- Böttcher, L. and Asikis, T., 2022. [Near-optimal control of dynamical systems with neural ordinary differential equations](https://iopscience.iop.org/article/10.1088/2632-2153/ac92c3/meta). Machine Learning: Science and Technology, 3(4), p.045004.\n",
    "\n",
    "## Key Concepts\n",
    "- Simulation of microbial ecosystems using generalized Lotka-Volterra (gLV) equations\n",
    "- Neural network-based antibiotic dosing controller\n",
    "- Targeted treatment optimization\n",
    "- Visualization of microbial population dynamics"
   ]
  },
  {
   "cell_type": "markdown",
   "id": "23d78373",
   "metadata": {},
   "source": [
    "# 🧪 Workshop Exercises: Control of Microbial Dynamics with Neural ODEs\n",
    "\n",
    "This is the **exercise** version. Fill in the `# TODO` sections.\n",
    "Run cells in order and use the quick checks.\n"
   ]
  },
  {
   "cell_type": "markdown",
   "id": "a607b5d7",
   "metadata": {},
   "source": [
    "## Mathematical Background\n",
    "\n",
    "We consider the generalized Lotka--Volterra (gLV) model with control:\n",
    "\n",
    "$$\n",
    "\\frac{dx_i}{dt} = x_i \\left( b_i + \\sum_j M_{ij} x_j + \\epsilon_i u(t) \\right)\n",
    "$$\n",
    "\n",
    "- $x_i(t)$: abundance of species $i$\n",
    "- $b_i$: intrinsic growth rate\n",
    "- $M_{ij}$: interaction-matrix element\n",
    "- $\\epsilon_i$: antibiotic susceptibility\n",
    "- $u(t)$: control input (antibiotic dose)\n",
    "\n",
    "Our control objective is to suppress *C. difficile* while reducing total antibiotic usage."
   ]
  },
  {
   "cell_type": "code",
   "execution_count": 1,
   "id": "2d328aba-e7fa-4686-845e-f5b2460b3e61",
   "metadata": {},
   "outputs": [],
   "source": [
    "import numpy as np\n",
    "import torch\n",
    "import torch.nn as nn\n",
    "from torchdiffeq import odeint\n",
    "from copy import deepcopy\n",
    "import matplotlib.pyplot as plt"
   ]
  },
  {
   "cell_type": "markdown",
   "id": "microbial-species",
   "metadata": {},
   "source": [
    "## Microbial Species\n",
    "\n",
    "We model 11 microbial species with their abbreviations:"
   ]
  },
  {
   "cell_type": "code",
   "execution_count": 2,
   "id": "8f65a5c4-d41e-4b8a-bdf8-cca005f58d95",
   "metadata": {},
   "outputs": [],
   "source": [
    "species = [\n",
    "    'Barnesiella',         # Bar\n",
    "    'und. Lachnospiraceae', # uLac\n",
    "    'uncl. Lachnospiraceae', # ucLac\n",
    "    'Other',               # Oth\n",
    "    'Blautia',             # Blau\n",
    "    'und. Mollicutes',     # uMol\n",
    "    'Akkermansia',         # Akk\n",
    "    'Coprobacillus',       # Cop\n",
    "    'C. difficile',        # Cdif\n",
    "    'Enterococcus',        # Ent\n",
    "    'und. Enterobacteriaceae' # uEnt\n",
    "]"
   ]
  },
  {
   "cell_type": "markdown",
   "id": "f76a6f1d-5c15-44cc-8214-149524d59ccf",
   "metadata": {},
   "source": [
    "Initial conditions and parameters are based on experimental data.\n",
    "\n",
    "- Stein, R.R., Bucci, V., Toussaint, N.C., Buffie, C.G., Rätsch, G., Pamer, E.G., Sander, C. and Xavier, J.B., 2013. [Ecological modeling from time-series inference: insight into dynamics and stability of intestinal microbiota](https://journals.plos.org/ploscompbiol/article?id=10.1371/journal.pcbi.1003388). PLoS Computational Biology, 9(12), p.e1003388.\n",
    "  \n",
    "- Jones, E.W. and Carlson, J.M., 2018. [In silico analysis of antibiotic-induced Clostridium difficile infection: Remediation techniques and biological adaptations](https://journals.plos.org/ploscompbiol/article?id=10.1371/journal.pcbi.1006001). PLoS Computational Biology, 14(2), p.e1006001."
   ]
  },
  {
   "cell_type": "code",
   "execution_count": 3,
   "id": "model-parameters",
   "metadata": {},
   "outputs": [],
   "source": [
    "# Initial condition\n",
    "IC5 = torch.tensor([\n",
    "    2.7665, 3.0209, 0.5964, 1.931, 0.0097317, \\\n",
    "    0.0083412, 0.0, 0.0097317, 1e-10, 0.0, 0.001155\n",
    "], dtype=torch.float32)\n",
    "\n",
    "# Growth rates\n",
    "growth_rates = torch.tensor([\n",
    "    0.36807, 0.31023, 0.35610, 0.54006, 0.70898,\n",
    "    0.47064, 0.22970, 0.83005, 0.39181, 0.29075, 0.32367\n",
    "], dtype=torch.float32)\n",
    "\n",
    "# Interaction matrix (11x11)\n",
    "interaction_matrix = torch.tensor([\n",
    "    [-0.20516, 0.098398, 0.16739, -0.16461, -0.14341, 0.019881, -0.51535, -0.39162, 0.34635, 0.0088853, -0.26894],\n",
    "    [0.062123, -0.10489, -0.043011, -0.15466, -0.1872, 0.027031, -0.45919, -0.41388, 0.3013, 0.022081, -0.19657],\n",
    "    [0.14373, -0.19203, -0.10162, -0.13971, -0.16537, 0.013651, -0.50414, -0.7724, 0.29257, -0.005959, -0.20645],\n",
    "    [0.22403, 0.13813, 0.00045883, -0.83125, -0.2238, 0.22027, -0.20529, -1.0097, 0.66639, -0.038986, -0.40032],\n",
    "    [-0.18016, -0.051261, -5.03e-05, -0.054212, -0.70858, 0.016198, -0.50756, 0.55363, 0.15757, 0.22438, 0.10635],\n",
    "    [-0.11159, -0.03721, -0.042591, 0.041044, 0.26134, -0.42266, -0.18536, -0.43231, 0.1647, -0.061038, -0.26461],\n",
    "    [-0.12669, -0.18576, -0.12222, 0.3809, 0.4003, -0.16078, -1.2124, 1.3897, -0.37922, 0.19189, -0.096352],\n",
    "    [-0.071257, 0.00060448, 0.080355, -0.4548, -0.50349, 0.16899, -0.56222, -4.3508, 0.44315, -0.22341, -0.2074],\n",
    "    [-0.037541, -0.033333, -0.049912, -0.090424, -0.10211, 0.03229, -0.18179, -0.30301, -0.055765, 0.01436, -0.0076697],\n",
    "    [-0.04225, -0.013105, 0.02398, -0.11784, -0.32893, 0.020748, 0.054767, -2.0963, 0.11124, -0.19213, 0.023816],\n",
    "    [-0.3742, 0.27843, 0.24887, -0.16829, 0.08399, 0.033691, -0.23242, -0.39513, 0.31454, -0.038764, -0.3841]\n",
    "], dtype=torch.float32)\n",
    "\n",
    "# Antibiotic susceptibilities\n",
    "susceptibilities = torch.tensor([\n",
    "    -3.2926, -3.0354, -2.0909, -1.9395, -1.3491,\n",
    "    -1.1018, -0.92446, -0.79401, -0.31272, 1.0671, 3.7009\n",
    "], dtype=torch.float32)\n",
    "\n",
    "# Targeted susceptibilities (only affects C. difficile)\n",
    "targeted_susceptibilities = torch.tensor([\n",
    "    0.0, 0.0, 0.0, 0.0, 0.0,\n",
    "    0.0, 0.0, 0.0, -1.0, 0.0, 0.0\n",
    "], dtype=torch.float32)"
   ]
  },
  {
   "cell_type": "markdown",
   "id": "model-architecture",
   "metadata": {},
   "source": [
    "## Model Architecture\n",
    "\n",
    "### Antibiotic Dosing Controller\n",
    "A neural network that outputs antibiotic dose based on time:"
   ]
  },
  {
   "cell_type": "markdown",
   "id": "0b6c4f8a",
   "metadata": {},
   "source": [
    "---\n",
    "## ✅ Task 1 — Implement the control network forward pass\n",
    "Implement `forward(self, t)` to return `u(t)` of shape `(N,1)` for input `t` `(N,1)`.\n"
   ]
  },
  {
   "cell_type": "code",
   "execution_count": null,
   "id": "aea1c4d0",
   "metadata": {},
   "outputs": [],
   "source": [
    "\n",
    "class AntibioticNN(nn.Module):\n",
    "    def __init__(self, num_layers=5, hidden_dim=4):\n",
    "        super().__init__()\n",
    "        layers = []\n",
    "        input_dim = 1\n",
    "        for _ in range(num_layers):\n",
    "            layers.append(nn.Linear(input_dim, hidden_dim))\n",
    "            layers.append(nn.ELU())\n",
    "            input_dim = hidden_dim\n",
    "        layers.append(nn.Linear(hidden_dim, 1))\n",
    "        layers.append(nn.ReLU())  # ensure non-negative output\n",
    "        self.net = nn.Sequential(*layers)\n",
    "\n",
    "    def forward(self, t):\n",
    "        \"\"\"Return u(t), with shape (N, 1), for input t of shape (N, 1).\"\"\"\n",
    "        # TODO: pass t through the network\n",
    "        # return ...\n",
    "        raise NotImplementedError(\"Implement the forward pass for AntibioticNN\")\n"
   ]
  },
  {
   "cell_type": "code",
   "execution_count": null,
   "id": "ebb58c5f",
   "metadata": {},
   "outputs": [],
   "source": [
    "\n",
    "# Quick check (will fail until you implement forward)\n",
    "try:\n",
    "    net = AntibioticNN()\n",
    "    t_sample = torch.tensor([[0.0],[100.0]], dtype=torch.float32)\n",
    "    u_sample = net(t_sample)\n",
    "    assert u_sample.shape == (2,1), f\"Expected shape (2,1), got {u_sample.shape}\"\n",
    "    assert torch.all(u_sample >= 0), \"Output should be non-negative due to ReLU\"\n",
    "    print(\"Task 1 quick check passed ✔️\")\n",
    "except NotImplementedError as e:\n",
    "    print(\"Task 1 pending: \", e)\n"
   ]
  },
  {
   "cell_type": "markdown",
   "id": "41d5afea-6ebd-414e-a244-403acde7d021",
   "metadata": {},
   "source": [
    "### gLV Dynamics with Control\n",
    "Modified gLV equations incorporating the neural controller:"
   ]
  },
  {
   "cell_type": "markdown",
   "id": "11a72f7e",
   "metadata": {},
   "source": [
    "---\n",
    "## ✅ Task 2 — Implement the controlled gLV dynamics\n",
    "Complete `forward(self, t, x)` using the piecewise rules described in the lecture.\n"
   ]
  },
  {
   "cell_type": "code",
   "execution_count": null,
   "id": "baad0d13",
   "metadata": {},
   "outputs": [],
   "source": [
    "\n",
    "class gLV(nn.Module):\n",
    "    def __init__(self, b, M, eps, u_net, targeted_antibiotic=False, eps_tilde=None):\n",
    "        super().__init__()\n",
    "        self.b = b\n",
    "        self.M = M\n",
    "        self.eps = eps\n",
    "        self.targeted_antibiotic = targeted_antibiotic\n",
    "        self.eps_tilde = eps_tilde\n",
    "        self.u_net = u_net\n",
    "\n",
    "    def forward(self, t, x):\n",
    "        # TODO: compute control and interaction\n",
    "        # u = ...\n",
    "        # interaction = ...\n",
    "        # TODO: implement the piecewise dynamics\n",
    "        # We want a unit antibiotic dose until t=1.\n",
    "        # if t <= 1:\n",
    "        #     dxdt = ...\n",
    "        # elif self.targeted_antibiotic and (100 <= t <= 110):\n",
    "        #     dxdt = ...\n",
    "        # else:\n",
    "        #     dxdt = ...\n",
    "        # return dxdt\n",
    "        raise NotImplementedError(\"Implement the gLV forward dynamics\")\n"
   ]
  },
  {
   "cell_type": "code",
   "execution_count": null,
   "id": "260bc896",
   "metadata": {},
   "outputs": [],
   "source": [
    "\n",
    "# Quick check for Task 2 (no ODE solve, just forward logic)\n",
    "try:\n",
    "    torch.manual_seed(0)\n",
    "    n = 3\n",
    "    b = torch.ones(n)\n",
    "    M = torch.zeros((n,n))\n",
    "    eps = torch.full((n,), -0.1)\n",
    "    class DummyNet(nn.Module):\n",
    "        def forward(self, t): return torch.tensor([[2.0]], dtype=torch.float32)\n",
    "    u_net = DummyNet()\n",
    "    eps_tilde = torch.tensor([0.0, 0.0, -1.0])\n",
    "    model = gLV(b, M, eps, u_net, targeted_antibiotic=True, eps_tilde=eps_tilde)\n",
    "    x = torch.tensor([1.0, 2.0, 3.0])\n",
    "    dx1 = model(torch.tensor(0.5), x)       # t <= 1 branch\n",
    "    assert torch.allclose(dx1, x * (b + M@x + 1*eps))\n",
    "    dx2 = model(torch.tensor(105.0), x)     # targeted branch\n",
    "    assert torch.allclose(dx2, x * (b + M@x + eps_tilde * 2.0))\n",
    "    dx3 = model(torch.tensor(50.0), x)      # normal dynamics\n",
    "    assert torch.allclose(dx3, x * (b + M@x))\n",
    "    print(\"Task 2 quick check passed ✔️\")\n",
    "except NotImplementedError as e:\n",
    "    print(\"Task 2 pending: \", e)\n"
   ]
  },
  {
   "cell_type": "code",
   "execution_count": 6,
   "id": "model-initialization",
   "metadata": {},
   "outputs": [],
   "source": [
    "# Initialize models\n",
    "torch.manual_seed(42)\n",
    "u_net = AntibioticNN()\n",
    "model = gLV(growth_rates, interaction_matrix, susceptibilities, u_net)\n",
    "\n",
    "# Time domain (150 days)\n",
    "t = torch.linspace(0, 150, 500)\n",
    "\n",
    "# Solve ODE\n",
    "trajectory = odeint(model, IC5, t, method='dopri5')\n",
    "trajectory_baseline = trajectory  # Save baseline for comparison"
   ]
  },
  {
   "cell_type": "markdown",
   "id": "optimization",
   "metadata": {},
   "source": [
    "## Optimization\n",
    "\n",
    "We optimize the controller to:\n",
    "1. Minimize *C. difficile* abundance during and after treatment (days 100-150)\n",
    "2. Minimize antibiotic usage (regularization term)\n",
    "\n",
    "Loss function:"
   ]
  },
  {
   "cell_type": "markdown",
   "id": "4ae426ef",
   "metadata": {},
   "source": [
    "---\n",
    "## ✅ Task 3 — Implement the loss function\n",
    "Compute mean *C. difficile* abundance for `t >= 100` plus L2 on control during `100–110`.\n"
   ]
  },
  {
   "cell_type": "code",
   "execution_count": null,
   "id": "c20c5b3f",
   "metadata": {},
   "outputs": [],
   "source": [
    "\n",
    "def loss_fn(trajectory, u_net, t):\n",
    "    \"\"\"Compute mean C. difficile post-100d plus L2 on control during 100–110d.\"\"\"\n",
    "    # TODO: slice cdiff signal and compute mean over t >= 100\n",
    "    # mask_post = ...\n",
    "    # cdiff = ...\n",
    "    # cdiff_mean = ...\n",
    "    # TODO: regularization over treatment window only\n",
    "    # mask_window = ...\n",
    "    # t_window = ...\n",
    "    # reg = 0.01 * torch.mean(u_net(t_window.unsqueeze(-1)) ** 2)\n",
    "    # loss = cdiff_mean + reg\n",
    "    # return loss\n",
    "    raise NotImplementedError(\"Implement the loss function\")\n"
   ]
  },
  {
   "cell_type": "code",
   "execution_count": null,
   "id": "ae53470f",
   "metadata": {},
   "outputs": [],
   "source": [
    "\n",
    "# Quick check for Task 3 (uses a dummy u_net to make reg=0)\n",
    "try:\n",
    "    class ZeroNet(nn.Module):\n",
    "        def forward(self, t): return torch.zeros_like(t)\n",
    "    u_zero = ZeroNet()\n",
    "    t_test = torch.tensor([0.0, 99.0, 100.0, 105.0, 150.0])\n",
    "    traj = torch.zeros((5,11))\n",
    "    traj[:,8] = torch.tensor([10.0, 8.0, 6.0, 4.0, 2.0])\n",
    "    L = loss_fn(traj, u_zero, t_test)\n",
    "    assert torch.isclose(L, torch.tensor(4.0)), f\"Expected 4.0, got {L.item()}\"\n",
    "    print(\"Task 3 quick check passed ✔️\")\n",
    "except NotImplementedError as e:\n",
    "    print(\"Task 3 pending: \", e)\n"
   ]
  },
  {
   "cell_type": "markdown",
   "id": "190f3c89",
   "metadata": {},
   "source": [
    "---\n",
    "## ✅ Task 4 — Complete the optimization loop\n",
    "Simulate with `odeint`, compute loss, backprop, step, and track the best model.\n"
   ]
  },
  {
   "cell_type": "code",
   "execution_count": null,
   "id": "5ae5bdf4",
   "metadata": {},
   "outputs": [],
   "source": [
    "\n",
    "# Initialize targeted treatment model\n",
    "model = gLV(growth_rates, interaction_matrix, susceptibilities, u_net, \n",
    "            targeted_antibiotic=True, eps_tilde=targeted_susceptibilities)\n",
    "\n",
    "optimizer = torch.optim.Adam(u_net.parameters(), lr=1e-3)\n",
    "best_loss = float('inf')\n",
    "loss_history = []\n",
    "\n",
    "# TODO: training loop\n",
    "for epoch in range(200):\n",
    "    # 1) zero grad\n",
    "    # 2) simulate: trajectory = odeint(model, IC5, t, method='dopri5')\n",
    "    # 3) loss = loss_fn(trajectory, u_net, t)\n",
    "    # 4) loss.backward(); optimizer.step()\n",
    "    # 5) bookkeeping: loss_history append; track best model state dict\n",
    "    raise NotImplementedError(\"Implement the training loop\")\n"
   ]
  },
  {
   "cell_type": "markdown",
   "id": "visualization",
   "metadata": {},
   "source": [
    "## Results\n",
    "\n",
    "### Control Signal\n",
    "The optimized antibiotic dosing schedule:"
   ]
  },
  {
   "cell_type": "code",
   "execution_count": 9,
   "id": "control-signal-plot",
   "metadata": {},
   "outputs": [
    {
     "data": {
      "image/png": "[encoded data removed]",
      "text/plain": [
       "<Figure size 500x400 with 1 Axes>"
      ]
     },
     "metadata": {},
     "output_type": "display_data"
    }
   ],
   "source": [
    "# Plot control signal\n",
    "with torch.no_grad():\n",
    "    u_values = u_net(t.unsqueeze(-1)).squeeze().cpu().numpy()\n",
    "\n",
    "plt.figure(figsize=(5, 4))\n",
    "plt.plot(t.numpy(), u_values)\n",
    "plt.xlim(100, 110)\n",
    "plt.ylim(1.5, 2.0)\n",
    "plt.xlabel('Time (days)')\n",
    "plt.ylabel('Antibiotic dose')\n",
    "plt.tight_layout()\n",
    "plt.show()"
   ]
  },
  {
   "cell_type": "markdown",
   "id": "population-dynamics",
   "metadata": {},
   "source": [
    "### Population Dynamics\n",
    "\n",
    "Comparison of microbial populations with and without targeted treatment:"
   ]
  },
  {
   "cell_type": "markdown",
   "id": "b8b2164c",
   "metadata": {},
   "source": [
    "---\n",
    "## ✅ Task 5 — Plot and interpret the results\n"
   ]
  },
  {
   "cell_type": "code",
   "execution_count": null,
   "id": "d451f026",
   "metadata": {},
   "outputs": [],
   "source": [
    "\n",
    "def plot_stacked_trajectories(traj1, traj2, t_end=150):\n",
    "    \"\"\"Visualize two trajectories side by side with stacked area plots.\"\"\"\n",
    "    \n",
    "    def preprocess_trajectory(trajectory):\n",
    "        y = trajectory.detach().numpy()\n",
    "        y = np.maximum(y, 1e-20)  # Avoid log(0)\n",
    "        y_total = y.sum(axis=1)\n",
    "        y_log_total = 11 + np.log10(y_total)\n",
    "        y_log_species = (y / y_total[:, None]) * y_log_total[:, None]\n",
    "        y_stacked = np.cumsum(y_log_species, axis=1)\n",
    "        return y_log_total, y_stacked\n",
    "\n",
    "    y_log_total1, y_stacked1 = preprocess_trajectory(traj1)\n",
    "    y_log_total2, y_stacked2 = preprocess_trajectory(traj2)\n",
    "    t = np.linspace(0, t_end, len(traj1))\n",
    "\n",
    "    # Color setup - highlight C. difficile in red\n",
    "    tab10 = list(plt.cm.tab10.colors)\n",
    "    tab10[3:-1] = tab10[4:]\n",
    "    colors = [tab10[i % len(tab10)] for i in range(traj1.shape[1])]\n",
    "    colors[-1] = 'silver'  # Last species in gray\n",
    "    colors[8] = 'tab:red'  # C. difficile in red\n",
    "\n",
    "    fig, axes = plt.subplots(1, 2, figsize=(12, 5), sharey=True)\n",
    "\n",
    "    for ax_idx, (ax, y_stacked, y_log_total) in enumerate(zip(axes, [y_stacked1, y_stacked2], [y_log_total1, y_log_total2])):\n",
    "        for i in range(traj1.shape[1] - 1, -1, -1):\n",
    "            bottom = y_stacked[:, i - 1] if i > 0 else np.zeros_like(y_log_total)\n",
    "            alpha = 0.6 if i == 8 else 0.4  # Highlight C. difficile\n",
    "            ax.fill_between(t, bottom, y_stacked[:, i], \n",
    "                          color=colors[i], alpha=alpha, label=species[i], linewidth=0.0)\n",
    "            ax.plot(t, y_stacked[:, i], color=colors[i], ls='-', lw=1.0, alpha=0.8)\n",
    "            \n",
    "        ax.set_xlim(0, t_end)\n",
    "        ax.set_ylim(0, 15)\n",
    "        ax.set_xlabel('Time (days)')\n",
    "        if ax_idx == 0:\n",
    "            ax.set_ylabel('log(microbial abundance)')\n",
    "        \n",
    "        # Add treatment window indicator\n",
    "        if ax_idx == 1:\n",
    "            ax.axvspan(100, 110, color='red', alpha=0.1)\n",
    "\n",
    "    axes[0].set_title('Baseline (No Treatment)')\n",
    "    axes[1].set_title('With Targeted Treatment')\n",
    "    \n",
    "    # Create a unified legend\n",
    "    handles, labels = axes[0].get_legend_handles_labels()\n",
    "    fig.legend(handles[::-1], labels[::-1], loc='center right', ncol=1)\n",
    "    \n",
    "    plt.tight_layout()\n",
    "    plt.subplots_adjust(right=0.8)\n",
    "    plt.show()\n",
    "\n",
    "# After training:\n",
    "# trajectory_optimized = odeint(model, IC5, t, method='dopri5')\n",
    "# plot_stacked_trajectories(trajectory_baseline, trajectory_optimized)\n"
   ]
  },
  {
   "cell_type": "markdown",
   "id": "conclusion",
   "metadata": {},
   "source": [
    "## Key Findings\n",
    "\n",
    "1. **Targeted Treatment Effectiveness**: The optimized controller successfully suppresses *C. difficile* (red).\n",
    "\n",
    "2. **Control Efficiency**: The neural controller learns to administer antibiotics in a way that reduces total usage."
   ]
  },
  {
   "cell_type": "markdown",
   "id": "3396a4ec",
   "metadata": {},
   "source": [
    "---\n",
    "## 🌟 Additional Tasks (optional)\n",
    "\n",
    "- Replace the L2 penalty with an L1 penalty on `u(t)` during the treatment window and compare outcomes.\n",
    "- Add a hard cap on dose: clamp `u(t)` to a maximum value and discuss how it changes the optimal policy.\n",
    "- Change the treatment window (e.g., 20–30 days) and observe how the control adapts.\n",
    "- Add Gaussian noise to the observed abundances and evaluate robustness.\n"
   ]
  },
  {
   "cell_type": "code",
   "execution_count": null,
   "id": "fff32206-9e40-4986-9f27-bbcd2894dc95",
   "metadata": {},
   "outputs": [],
   "source": []
  }
 ],
 "metadata": {
  "kernelspec": {
   "display_name": "Python 3 (ipykernel)",
   "language": "python",
   "name": "python3"
  },
  "language_info": {
   "codemirror_mode": {
    "name": "ipython",
    "version": 3
   },
   "file_extension": ".py",
   "mimetype": "text/x-python",
   "name": "python",
   "nbconvert_exporter": "python",
   "pygments_lexer": "ipython3",
   "version": "3.10.13"
  }
 },
 "nbformat": 4,
 "nbformat_minor": 5
}
