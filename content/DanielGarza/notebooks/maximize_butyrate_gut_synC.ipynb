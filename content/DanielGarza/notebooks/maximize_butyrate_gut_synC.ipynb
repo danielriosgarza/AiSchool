{
 "cells": [
  {
   "cell_type": "markdown",
   "id": "d8f6adcf",
   "metadata": {},
   "source": [
    "# **Kinetic model environment**"
   ]
  },
  {
   "cell_type": "markdown",
   "id": "9b280df2",
   "metadata": {},
   "source": [
    "The `kinetic model` environment allows us to simulate microbial communities and their environments using ordinary differential equations. \n",
    "\n",
    "To illustrate how it works, we build a simplified examplt with *E. coli* subpopulations. \n",
    "\n",
    "In this example, there are three subpopulations: two active and one inactive. \n",
    "\n",
    "- **Subpopulation A** consumes glucose and produces acetate (overflow).\n",
    "\n",
    "- **Subpopulation B** consumes acetate and produces CO2. Both subpopulations can transition to the inactive state.\n",
    "\n",
    "\n",
    "<div style=\"height:24px;\"></div>\n",
    "\n",
    "```css\n",
    "Glucose ---> [Subpopulation A] ---> Acetate\n",
    "Acetate ---> [Subpopulation B] ---> CO2\n",
    "\n",
    "[Subpopulation A] ---> [Inactive]\n",
    "[Subpopulation B] ---> [Inactive]\n",
    "```\n",
    "\n",
    "<div style=\"height:24px;\"></div>\n"
   ]
  },
  {
   "cell_type": "markdown",
   "id": "d9dbc4ee",
   "metadata": {},
   "source": [
    "#### **Metabolites & Metabolome**"
   ]
  },
  {
   "cell_type": "markdown",
   "id": "a3edd2dc",
   "metadata": {},
   "source": [
    "First, we create three `Metabolite` objects—glucose, acetate, and CO2—and group them in a `Metabolome`.\n"
   ]
  },
  {
   "cell_type": "code",
   "execution_count": null,
   "id": "60f193a5",
   "metadata": {},
   "outputs": [],
   "source": [
    "#import packages for the model and visualization\n",
    "from kinetic_model import Metabolite, Metabolome\n",
    "from kinetic_model.visualize import GraphSpecBuilder, CytoscapeExporter\n",
    "import json\n",
    "#to make sure plotly renders in the notebook\n",
    "import plotly.io as pio\n",
    "pio.renderers.default = \"notebook\"\n",
    "# Display Cytoscape visualization\n",
    "from ipycytoscape import CytoscapeWidget\n",
    "import ipywidgets as widgets\n",
    "\n",
    "\n",
    "\n",
    "#create metabolites\n",
    "glucose = Metabolite(name = \"glucose\", concentration = 5.0, formula ={'C': 6, 'H': 12, 'O': 6}, color = '#ff0000')\n",
    "acetate = Metabolite(name = \"acetate\", concentration = 0.0, formula ={'C': 2, 'H': 4, 'O': 3}, color = '#003eff')\n",
    "co2 = Metabolite(name = \"co2\", concentration = 0.0, formula ={'C': 1, 'O': 2}, color = '#00B8FF')"
   ]
  },
  {
   "cell_type": "markdown",
   "id": "abd8ea48",
   "metadata": {},
   "source": [
    "Inspect the objects"
   ]
  },
  {
   "cell_type": "code",
   "execution_count": null,
   "id": "0143ea40",
   "metadata": {},
   "outputs": [],
   "source": []
  },
  {
   "cell_type": "code",
   "execution_count": null,
   "id": "ad8a285c",
   "metadata": {},
   "outputs": [],
   "source": []
  },
  {
   "cell_type": "code",
   "execution_count": null,
   "id": "375c805a",
   "metadata": {},
   "outputs": [],
   "source": [
    "#create metabolome\n",
    "metabolome = Metabolome(metabolites = [glucose, acetate, co2])\n",
    "\n",
    "#visualize it\n",
    "metabolome.make_plot()\n",
    "\n"
   ]
  },
  {
   "cell_type": "markdown",
   "id": "bcf8d75c",
   "metadata": {},
   "source": [
    "We can also visualize the model components in Cytoscape"
   ]
  },
  {
   "cell_type": "code",
   "execution_count": null,
   "id": "2ef4e6cd",
   "metadata": {},
   "outputs": [],
   "source": [
    "\n",
    "#cycle through a kson file\n",
    "model = json.loads(metabolome.to_json(full_model=True))\n",
    "\n",
    "# Build the graph specification\n",
    "builder = GraphSpecBuilder()\n",
    "graph_spec = builder.build_from_json(model)\n",
    "\n",
    "# Export to Cytoscape\n",
    "exporter = CytoscapeExporter()\n",
    "cytoscape_data = exporter.export(graph_spec, layout=\"nice\", show_edge_labels=True)\n",
    "\n",
    "# Create the viewer\n",
    "viewer = CytoscapeWidget()\n",
    "viewer.graph.add_graph_from_json(cytoscape_data['elements'])\n",
    "viewer.set_style(cytoscape_data['style'])\n",
    "viewer.set_layout(name=\"preset\")\n",
    "\n",
    "# Display\n",
    "display(viewer)"
   ]
  },
  {
   "cell_type": "markdown",
   "id": "80d81c7c",
   "metadata": {},
   "source": [
    "#### **Fedding terms**"
   ]
  },
  {
   "cell_type": "markdown",
   "id": "db2a49a1",
   "metadata": {},
   "source": [
    "`Feeding term` objects encode how microbial subpopulations consume metabolites and release byproducts. They are defined independently and later linked to subpopulations. \n",
    "\n",
    "\n",
    "- If the `feeding term` requires more than one input metabolite, the relation is an `AND`:\n",
    "\n",
    "\n",
    "```css\n",
    "[metabolite A] + [metabolite C] ---> [metabolite B]\n",
    "```\n",
    "\n",
    "\n",
    "- If a subpopulations has more than one feeding term, the relation is an `OR`:\n",
    "\n",
    "```css\n",
    "[metabolite A] ---> [metabolite B] + [metabolite C]\n",
    "\n",
    "[metabolite D] ---> metabolite E]\n",
    "```\n",
    "\n",
    "- A `Boost` is an  `AND` combined with an `OR`. \n",
    "\n",
    "- Sequential (`XOR`) requires alternative subpopulations.\n",
    "\n",
    "\n",
    "In the *E. coli* example, there are two feeding terms."
   ]
  },
  {
   "cell_type": "code",
   "execution_count": null,
   "id": "c2dc2baa",
   "metadata": {},
   "outputs": [],
   "source": [
    "#Basic usage with simple metabolome:\n",
    "from kinetic_model import FeedingTerm\n",
    "# Create feeding term: consumes glucose, produces lactate\n",
    "feeding_term_1 = FeedingTerm(\n",
    "    id=\"glucose_to_acetate\",\n",
    "    metDict={\"glucose\": [1.0, 1.0], \"acetate\": [-1.0, 0.0]}, \n",
    "    metabolome=metabolome)\n",
    "\n",
    "feeding_term_2 = FeedingTerm(\n",
    "    id=\"acetate_to_co2\",\n",
    "    metDict={\"acetate\": [1.0, 1.0], \"co2\": [-1.0, 0.0]},\n",
    "    metabolome=metabolome\n",
    ")\n"
   ]
  },
  {
   "cell_type": "markdown",
   "id": "718bdcee",
   "metadata": {},
   "source": [
    "We can perform basic calculations of metabolic rates using the current metabolite concentrations defined in the `metabolome` object."
   ]
  },
  {
   "cell_type": "code",
   "execution_count": null,
   "id": "fa0e052c",
   "metadata": {},
   "outputs": [],
   "source": [
    "# Get current concentrations\n",
    "concentrations = metabolome.get_concentration()\n",
    "# Calculate growth and metabolism rates\n",
    "growth_contribution = feeding_term_1.intrinsicGrowth(concentrations)\n",
    "metabolism_rates = feeding_term_1.intrinsicMetabolism(concentrations)\n",
    "\n",
    "print(f\"growth_contribution ft 1: {growth_contribution:.3f}\")\n",
    "print(f\"Metabolism rates ft 1: {metabolism_rates}\")\n",
    "\n",
    "\n",
    "# Calculate growth and metabolism rates\n",
    "growth_contribution = feeding_term_2.intrinsicGrowth(concentrations)\n",
    "metabolism_rates = feeding_term_2.intrinsicMetabolism(concentrations)\n",
    "\n",
    "print(f\"growth_contribution ft 2: {growth_contribution:.3f}\")\n",
    "print(f\"Metabolism rates ft 2: {metabolism_rates}\")"
   ]
  },
  {
   "cell_type": "markdown",
   "id": "9bb973eb",
   "metadata": {},
   "source": [
    "Let’s visualize the glucose feeding term."
   ]
  },
  {
   "cell_type": "code",
   "execution_count": null,
   "id": "b38bb698",
   "metadata": {},
   "outputs": [],
   "source": [
    "model = json.loads(feeding_term_1.to_json(full_model=True))\n",
    "\n",
    "# Build the graph specification\n",
    "builder = GraphSpecBuilder()\n",
    "graph_spec = builder.build_from_json(model)\n",
    "\n",
    "# Export to Cytoscape\n",
    "exporter = CytoscapeExporter()\n",
    "cytoscape_data = exporter.export(graph_spec, layout=\"nice\", show_edge_labels=True)\n",
    "\n",
    "# Create the viewer\n",
    "viewer = CytoscapeWidget()\n",
    "viewer.graph.add_graph_from_json(cytoscape_data['elements'])\n",
    "viewer.set_style(cytoscape_data['style'])\n",
    "viewer.set_layout(name=\"preset\")\n",
    "\n",
    "# Display\n",
    "display(viewer)"
   ]
  },
  {
   "cell_type": "markdown",
   "id": "43bd2920",
   "metadata": {},
   "source": [
    "#### **Subpopulations**"
   ]
  },
  {
   "cell_type": "markdown",
   "id": "537c140f",
   "metadata": {},
   "source": [
    "Subpopulations represent microbial phenotypes—defined by their feeding terms—and their state (e.g., active or inactive)"
   ]
  },
  {
   "cell_type": "code",
   "execution_count": null,
   "id": "411d43f4",
   "metadata": {},
   "outputs": [],
   "source": [
    "from kinetic_model import Subpopulation\n",
    "\n",
    "\n",
    "# Create subpopulation\n",
    "subpop_1 = Subpopulation(\n",
    "    name=\"glucose_ecoli\",\n",
    "    count=1.0,\n",
    "    species=\"E. coli\",\n",
    "    mumax=0.5,\n",
    "    feedingTerms=[feeding_term_1],\n",
    "    pHopt=7.0,\n",
    "    pH_sensitivity_left=1.0,\n",
    "    pH_sensitivity_right=1.0,\n",
    "    Topt=37.0,\n",
    "    tempSensitivity_left=1.0,\n",
    "    tempSensitivity_right=1.0\n",
    "    )\n",
    "\n",
    "\n",
    "subpop_2 = Subpopulation(\n",
    "    name=\"acetate_ecoli\",\n",
    "    count=1.0,\n",
    "    species=\"E. coli\",\n",
    "    mumax=0.3,\n",
    "    feedingTerms=[feeding_term_2],\n",
    "    pHopt=7.0,\n",
    "    pH_sensitivity_left=1.0,\n",
    "    pH_sensitivity_right=1.0,\n",
    "    Topt=37.0,\n",
    "    tempSensitivity_left=1.0,\n",
    "    tempSensitivity_right=1.0\n",
    "    )\n",
    "\n",
    "subpop_3 = Subpopulation(\n",
    "    name=\"inactive_ecoli\",\n",
    "    count=1.0,\n",
    "    species=\"E. coli\",\n",
    "    mumax=0.0,\n",
    "    feedingTerms=[],\n",
    "    state=\"inactive\",\n",
    "    pHopt=7.0,\n",
    "    pH_sensitivity_left=1.0,\n",
    "    pH_sensitivity_right=1.0,\n",
    "    Topt=37.0,\n",
    "    tempSensitivity_left=1.0,\n",
    "    tempSensitivity_right=1.0\n",
    "    )\n",
    "\n",
    "\n",
    "\n",
    "\n",
    "# Access properties\n",
    "print(f\"Growth rate: {subpop_1.mumax}\")\n",
    "print(f\"pH sensitivity at pH 7.0: {subpop_1.pHSensitivity(7.0):.3f}\")\n",
    "print(f\"Temperature sensitivity at 37°C: {subpop_1.tempSensitivity(37.0):.3f}\")\n",
    "\n",
    "# Calculate growth and metabolism with concentration vector\n",
    "growth_rate = subpop_1.intrinsicGrowth(concentrations)\n",
    "metabolism_rates = subpop_1.intrinsicMetabolism(concentrations)\n",
    "\n"
   ]
  },
  {
   "cell_type": "markdown",
   "id": "28148d9d",
   "metadata": {},
   "source": [
    "#### **Bacteria and Microbiomes** "
   ]
  },
  {
   "cell_type": "markdown",
   "id": "484910fc",
   "metadata": {},
   "source": [
    "A species is represented by a `Bacteria` object, defined as a collection of subpopulations and the transition terms between them. Transitions depend on the environment and are specified as boolean or threshold functions, each combined with a rate.\n",
    "\n",
    "For example, we can define that the glucose-consuming E. coli subpopulation transitions to the acetate-consuming subpopulation when glucose falls below $1 mM$, at a rate of $0.001.$ Conversely, when glucose rises above $1 mM$, the acetate-consuming subpopulation transitions back to glucose consumption at a rate of $0.01$.\n",
    "\n",
    "Microbiomes are encoded as collections of species."
   ]
  },
  {
   "cell_type": "code",
   "execution_count": null,
   "id": "fc9a3850",
   "metadata": {},
   "outputs": [],
   "source": [
    "from kinetic_model import Bacteria\n",
    "\n",
    "# Create bacteria with conditional transitions based on resource availability\n",
    "\n",
    "bacteria = Bacteria(\n",
    "    species=\"E. coli\",\n",
    "    subpopulations={\n",
    "        \"glucose_consumer\": subpop_1,\n",
    "        \"acetate_consumer\": subpop_2,\n",
    "        \"inactive\": subpop_3\n",
    "        },\n",
    "    connections={\n",
    "        \"glucose_consumer\": [[\"acetate_consumer\", \"glucose <1 and acetate > 1\", 0.001], [\"inactive\", \"\", 0.00001]],\n",
    "        \"acetate_consumer\": [[\"glucose_consumer\", \"glucose > 1 and acetate < 1\", 0.01], [\"inactive\", \"\", 0.0000001]],\n",
    "        }\n",
    "    )\n",
    "\n",
    "# Access properties\n",
    "print(f\"Species: {bacteria.species}\")\n",
    "print(f\"Subpopulations: {list(bacteria.subpopulations.keys())}\")\n",
    "print(f\"Connections: {bacteria.connections}\")\n"
   ]
  },
  {
   "cell_type": "markdown",
   "id": "1cfff072",
   "metadata": {},
   "source": []
  }
 ],
 "metadata": {
  "kernelspec": {
   "display_name": "Python (uv-venv)",
   "language": "python",
   "name": "uv-venv"
  },
  "language_info": {
   "codemirror_mode": {
    "name": "ipython",
    "version": 3
   },
   "file_extension": ".py",
   "mimetype": "text/x-python",
   "name": "python",
   "nbconvert_exporter": "python",
   "pygments_lexer": "ipython3",
   "version": "3.13.3"
  }
 },
 "nbformat": 4,
 "nbformat_minor": 5
}
