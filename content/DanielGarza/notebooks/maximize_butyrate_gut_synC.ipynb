{
 "cells": [
  {
   "cell_type": "markdown",
   "id": "d8f6adcf",
   "metadata": {},
   "source": [
    "# **Kinetic model environment**"
   ]
  },
  {
   "cell_type": "markdown",
   "id": "9b280df2",
   "metadata": {},
   "source": [
    "The `kinetic model` environment allows us to simulate microbial communities and their environments using ordinary differential equations. To get a better understanding of the model, \n",
    "We are going to create a simplified example of *E. coli* subpopulations. In our example, there are three subpopulations, two active and one inactive. The active ones feed respectively on glucose releasing acetate (overflow) and on acetate releasing CO2. Both subpopulations can become inactive.\n",
    "\n",
    "\n",
    "<div style=\"height:24px;\"></div>\n",
    "\n",
    "```css\n",
    "Glucose ---> [Subpopulation A] ---> Acetate\n",
    "Acetate ---> [Subpopulation B] ---> CO2\n",
    "\n",
    "[Subpopulation A] ---> [Inactive]\n",
    "[Subpopulation B] ---> [Inactive]\n",
    "```\n",
    "\n",
    "<div style=\"height:24px;\"></div>\n"
   ]
  },
  {
   "cell_type": "markdown",
   "id": "d9dbc4ee",
   "metadata": {},
   "source": [
    "#### **Metabolites & Metabolome**"
   ]
  },
  {
   "cell_type": "markdown",
   "id": "a3edd2dc",
   "metadata": {},
   "source": [
    "We first create three Metabolite objects for glucose, acetate, and CO2 and group them in a Metabolome.\n"
   ]
  },
  {
   "cell_type": "code",
   "execution_count": null,
   "id": "60f193a5",
   "metadata": {},
   "outputs": [],
   "source": [
    "#import packages for the model and visualization\n",
    "from kinetic_model.metabolite import Metabolite\n",
    "from kinetic_model.visualize import GraphSpecBuilder, CytoscapeExporter\n",
    "import json\n",
    "\n",
    "\n",
    "#create metabolites\n",
    "glucose = Metabolite(name = \"glucose\", concentration = 5.0, formula ={'C': 6, 'H': 12, 'O': 6}, color = '#ff0000')\n",
    "\n"
   ]
  }
 ],
 "metadata": {
  "kernelspec": {
   "display_name": "Python (uv-venv)",
   "language": "python",
   "name": "uv-venv"
  },
  "language_info": {
   "codemirror_mode": {
    "name": "ipython",
    "version": 3
   },
   "file_extension": ".py",
   "mimetype": "text/x-python",
   "name": "python",
   "nbconvert_exporter": "python",
   "pygments_lexer": "ipython3",
   "version": "3.13.3"
  }
 },
 "nbformat": 4,
 "nbformat_minor": 5
}
