{
 "cells": [
  {
   "cell_type": "markdown",
   "id": "d8f6adcf",
   "metadata": {},
   "source": [
    "# **Kinetic model environment**"
   ]
  },
  {
   "cell_type": "markdown",
   "id": "9b280df2",
   "metadata": {},
   "source": [
    "The `kinetic model` environment allows us to simulate microbial communities and their environments using ordinary differential equations. To get a better understanding of the model, \n",
    "We are going to create a simplified example of *E. coli* subpopulations. In our example, there are three subpopulations, two active and one inactive. The active ones feed respectively on glucose releasing acetate (overflow), and on acetate releasing CO2. Both subpopulations can become inactive.\n",
    "\n",
    "\n",
    "<div style=\"height:24px;\"></div>\n",
    "\n",
    "```css\n",
    "Glucose ---> [Subpopulation A] ---> Acetate\n",
    "Acetate ---> [Subpopulation B] ---> CO2\n",
    "\n",
    "[Subpopulation A] ---> [Inactive]\n",
    "[Subpopulation B] ---> [Inactive]\n",
    "```\n",
    "\n",
    "<div style=\"height:24px;\"></div>\n"
   ]
  },
  {
   "cell_type": "markdown",
   "id": "d9dbc4ee",
   "metadata": {},
   "source": [
    "#### **Metabolites & Metabolome**"
   ]
  },
  {
   "cell_type": "markdown",
   "id": "a3edd2dc",
   "metadata": {},
   "source": [
    "We first create three Metabolite objects for glucose, acetate, and CO2 and group them in a Metabolome.\n"
   ]
  },
  {
   "cell_type": "code",
   "execution_count": null,
   "id": "60f193a5",
   "metadata": {},
   "outputs": [],
   "source": [
    "#import packages for the model and visualization\n",
    "from kinetic_model.metabolite import Metabolite, Metabolome\n",
    "from kinetic_model.visualize import GraphSpecBuilder, CytoscapeExporter\n",
    "import json\n",
    "#to make sure plotly renders in the notebook\n",
    "import plotly.io as pio\n",
    "pio.renderers.default = \"notebook\"\n",
    "\n",
    "\n",
    "#create metabolites\n",
    "glucose = Metabolite(name = \"glucose\", concentration = 5.0, formula ={'C': 6, 'H': 12, 'O': 6}, color = '#ff0000')\n",
    "acetate = Metabolite(name = \"acetate\", concentration = 0.0, formula ={'C': 2, 'H': 4, 'O': 3}, color = '#003eff')\n"
   ]
  },
  {
   "cell_type": "markdown",
   "id": "abd8ea48",
   "metadata": {},
   "source": [
    "Inspect the objects"
   ]
  },
  {
   "cell_type": "code",
   "execution_count": null,
   "id": "0143ea40",
   "metadata": {},
   "outputs": [],
   "source": []
  },
  {
   "cell_type": "code",
   "execution_count": null,
   "id": "ad8a285c",
   "metadata": {},
   "outputs": [],
   "source": []
  },
  {
   "cell_type": "code",
   "execution_count": null,
   "id": "375c805a",
   "metadata": {},
   "outputs": [],
   "source": [
    "#create metabolome\n",
    "metabolome = Metabolome(metabolites = [glucose, acetate, co2])\n",
    "\n",
    "#visualize it\n",
    "metabolome.make_plot()\n",
    "\n"
   ]
  },
  {
   "cell_type": "markdown",
   "id": "bcf8d75c",
   "metadata": {},
   "source": [
    "We can also visualize the model components in Cytoscape"
   ]
  },
  {
   "cell_type": "code",
   "execution_count": null,
   "id": "2ef4e6cd",
   "metadata": {},
   "outputs": [],
   "source": [
    "\n",
    "#cycle through a kson file\n",
    "model = json.loads(metabolome.to_json(full_model=True))\n",
    "\n",
    "# Build the graph specification\n",
    "builder = GraphSpecBuilder()\n",
    "graph_spec = builder.build_from_json(model)\n",
    "\n",
    "# Export to Cytoscape\n",
    "exporter = CytoscapeExporter()\n",
    "cytoscape_data = exporter.export(graph_spec, layout=\"nice\", show_edge_labels=True)\n",
    "\n",
    "# Display the visualization\n",
    "from ipycytoscape import CytoscapeWidget\n",
    "import ipywidgets as widgets\n",
    "\n",
    "# Create the viewer\n",
    "viewer = CytoscapeWidget()\n",
    "viewer.graph.add_graph_from_json(cytoscape_data['elements'])\n",
    "viewer.set_style(cytoscape_data['style'])\n",
    "viewer.set_layout(name=\"preset\")\n",
    "\n",
    "# Display\n",
    "display(viewer)"
   ]
  },
  {
   "cell_type": "code",
   "execution_count": null,
   "id": "b38bb698",
   "metadata": {},
   "outputs": [],
   "source": []
  }
 ],
 "metadata": {
  "kernelspec": {
   "display_name": "Python (uv-venv)",
   "language": "python",
   "name": "uv-venv"
  },
  "language_info": {
   "codemirror_mode": {
    "name": "ipython",
    "version": 3
   },
   "file_extension": ".py",
   "mimetype": "text/x-python",
   "name": "python",
   "nbconvert_exporter": "python",
   "pygments_lexer": "ipython3",
   "version": "3.13.3"
  }
 },
 "nbformat": 4,
 "nbformat_minor": 5
}
